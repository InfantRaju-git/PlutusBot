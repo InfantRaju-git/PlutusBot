{
 "cells": [
  {
   "cell_type": "code",
   "execution_count": 7,
   "id": "948d17a9-e42d-4bc7-b2b1-3a205a54b5bd",
   "metadata": {},
   "outputs": [],
   "source": [
    "import datetime\n",
    "from datetime import datetime as dt\n",
    "import time\n",
    "import requests\n",
    "import pandas as pd\n",
    "\n",
    "def unix_to_local_time(unix_timestamp):\n",
    "    return str(dt.fromtimestamp(unix_timestamp).strftime('%Y-%m-%d %H:%M:%S'))\n",
    "\n",
    "def trade_option(symbol, days_before, timeframe):\n",
    "    end_time_in_millis = int(time.time() * 1000)\n",
    "    end_time = datetime.datetime.fromtimestamp(end_time_in_millis / 1000)\n",
    "\n",
    "    # Calculate the start time based on the number of days before the end time\n",
    "    start_time = end_time - datetime.timedelta(days=days_before)\n",
    "    start_time = start_time.replace(hour=9, minute=0, second=0, microsecond=0)\n",
    "\n",
    "    # Convert start and end times to Unix timestamps in milliseconds\n",
    "    start_time_in_millis = int(start_time.timestamp() * 1000)\n",
    "    end_time_in_millis = int(end_time.timestamp() * 1000)\n",
    "     \n",
    "    url = 'https://groww.in/v1/api/charting_service/v4/chart/exchange/NSE/segment/CASH/'+symbol\n",
    "    params = {\n",
    "        'endTimeInMillis': str(end_time_in_millis),\n",
    "        'intervalInMinutes': timeframe,\n",
    "        'startTimeInMillis': str(start_time_in_millis),\n",
    "    }\n",
    "    \n",
    "    response = requests.get(url, params=params)\n",
    "    \n",
    "    if response.status_code == 200:\n",
    "        json_data = response.json()\n",
    "        df = pd.DataFrame(json_data)\n",
    "    \n",
    "    df.drop(['changeValue', 'changePerc', 'closingPrice', 'startTimeEpochInMillis'], axis=1, inplace=True)\n",
    "    ohlc = df['candles'].apply(pd.Series)\n",
    "    \n",
    "    ohlc.columns = ['timestamp', 'open', 'high', 'low', 'close', 'volume']\n",
    "    ohlc.drop(['volume'], axis=1, inplace=True)\n",
    "    \n",
    "    return ohlc\n",
    "\n"
   ]
  },
  {
   "cell_type": "code",
   "execution_count": 38,
   "id": "f7b4146b-92ce-408f-8b17-b353192d4bde",
   "metadata": {},
   "outputs": [],
   "source": [
    "symbol = 'NIFTY'\n",
    "days_before = 0\n",
    "timeframe = 10\n",
    "ohlc = trade_option(symbol, days_before, timeframe)"
   ]
  },
  {
   "cell_type": "code",
   "execution_count": 39,
   "id": "165cfae2-2e0b-4f69-82c6-d073cb4cdd28",
   "metadata": {},
   "outputs": [
    {
     "name": "stdout",
     "output_type": "stream",
     "text": [
      "Sell: Entry Time: 2024-05-14 09:55:00, Entry Price: 22123.05\n",
      "Exit Sell: Time: 2024-05-14 10:25:00, Exit Price: 22107.55, P/L: 15.5\n",
      "Long: Entry Time: 2024-05-14 10:25:00, Entry Price: 22107.55\n",
      "Exit Long: Time: 2024-05-14 13:15:00, Exit Price: 22220.35, P/L: 112.79999999999927\n",
      "Sell: Entry Time: 2024-05-14 13:15:00, Entry Price: 22220.35\n",
      "Exit Sell: Time: 2024-05-14 13:35:00, Exit Price: 22233.05, P/L: -12.700000000000728\n",
      "Long: Entry Time: 2024-05-14 13:35:00, Entry Price: 22233.05\n",
      "Exit Long: Time: 2024-05-14 14:15:00, Exit Price: 22250.7, P/L: 17.650000000001455\n",
      "Sell: Entry Time: 2024-05-14 14:15:00, Entry Price: 22250.7\n",
      "Exit Sell: Time: 2024-05-14 15:25:00, Exit Price: 22217.8, P/L: 32.900000000001455\n",
      "Long: Entry Time: 2024-05-14 15:25:00, Entry Price: 22217.8\n",
      "\n",
      "Open Trades:\n",
      "Type: long, Entry Time: 2024-05-14 15:25:00, Entry Price: 22217.8\n",
      "\n",
      "Overall Profit/Loss: 166.15000000000146\n"
     ]
    }
   ],
   "source": [
    "position = False\n",
    "entry_price = None\n",
    "position_type = None\n",
    "total_profit_loss = 0\n",
    "\n",
    "# Assume 'ohlc' is your OHLC data DataFrame\n",
    "ohlc['HA_Close'] = (ohlc['open'] + ohlc['high'] + ohlc['low'] + ohlc['close']) / 4\n",
    "ha_open = ohlc['HA_Close'].shift(1)\n",
    "ohlc['HA_Open'] = ha_open.values[0]\n",
    "ohlc.loc[1:, 'HA_Open'] = ha_open.values[1:]\n",
    "ohlc['HA_High'] = ohlc[['HA_Open', 'HA_Close', 'high']].max(axis=1)\n",
    "ohlc['HA_Low'] = ohlc[['HA_Open', 'HA_Close', 'low']].min(axis=1)\n",
    "\n",
    "for index, row in ohlc.iterrows():\n",
    "    if index == 0:\n",
    "        i = 1\n",
    "    else:\n",
    "        i = index\n",
    "        \n",
    "    #if row['HA_Close'] >= row['HA_Open'] and ohlc.iloc[i-1]['HA_Close'] >= ohlc.iloc[i-1]['HA_Open'] and ohlc.iloc[i-1]['HA_Open'] == ohlc.iloc[i-1]['HA_Low']:\n",
    "    if row['HA_Close'] >= row['HA_Open'] and (ohlc.iloc[i-1]['HA_Close'] >= ohlc.iloc[i-1]['HA_Open'] or ohlc.iloc[i-1]['HA_Open'] == ohlc.iloc[i-1]['HA_Low']):\n",
    "        if position and position_type == 'short':\n",
    "            position = False\n",
    "            profit_loss = entry_price - row['open']\n",
    "            total_profit_loss += profit_loss\n",
    "            print(f\"Exit Sell: Time: {unix_to_local_time(row['timestamp'])}, Exit Price: {row['open']}, P/L: {profit_loss}\")\n",
    "            entry_price = None\n",
    "\n",
    "        if not position:\n",
    "            position = True\n",
    "            entry_price = row['open']\n",
    "            position_type = \"long\"\n",
    "            print(f\"Long: Entry Time: {unix_to_local_time(row['timestamp'])}, Entry Price: {entry_price}\")\n",
    "\n",
    "    #if row['HA_Close'] < row['HA_Open'] and ohlc.iloc[i-1]['HA_Close'] < ohlc.iloc[i-1]['HA_Open'] and ohlc.iloc[i-1]['HA_Open'] == ohlc.iloc[i-1]['HA_High']:\n",
    "    if row['HA_Close'] < row['HA_Open'] and (ohlc.iloc[i-1]['HA_Close'] < ohlc.iloc[i-1]['HA_Open'] or ohlc.iloc[i-1]['HA_Open'] == ohlc.iloc[i-1]['HA_High']):\n",
    "        if position and position_type == 'long':\n",
    "            position = False\n",
    "            profit_loss = row['open'] - entry_price\n",
    "            total_profit_loss += profit_loss\n",
    "            print(f\"Exit Long: Time: {unix_to_local_time(row['timestamp'])}, Exit Price: {row['open']}, P/L: {profit_loss}\")\n",
    "            entry_price = None\n",
    "\n",
    "        if not position:\n",
    "            position = True\n",
    "            entry_price = row['open']\n",
    "            position_type = \"short\"\n",
    "            print(f\"Sell: Entry Time: {unix_to_local_time(row['timestamp'])}, Entry Price: {entry_price}\")\n",
    "\n",
    "# Print open trades\n",
    "if open_trade:\n",
    "    print(\"\\nOpen Trades:\")\n",
    "    print(f\"Type: {open_trade['type']}, Entry Time: {unix_to_local_time(open_trade['entry_time'])}, Entry Price: {open_trade['entry_price']}\")\n",
    "\n",
    "print(f\"\\nOverall Profit/Loss: {total_profit_loss}\")"
   ]
  },
  {
   "cell_type": "markdown",
   "id": "4b652d4f-ae5a-4208-8d0c-f903d6a41748",
   "metadata": {},
   "source": [
    "1. and (or) - high(TF) low(Order,Profit), low(TF) high(Order,Profit)\n",
    "2. and and  - hight(TF,profit) low(order), low(TF,profit) high(order) "
   ]
  },
  {
   "cell_type": "code",
   "execution_count": 31,
   "id": "dd2489fd-211a-484b-bd04-d764d926a5b4",
   "metadata": {},
   "outputs": [
    {
     "data": {
      "text/plain": [
       "22300"
      ]
     },
     "execution_count": 31,
     "metadata": {},
     "output_type": "execute_result"
    }
   ],
   "source": [
    "def get_atm_strike(symbol, current_price, current_trend):\n",
    "    if symbol == \"NIFTY\":\n",
    "        increment = 50\n",
    "    elif symbol == \"BANKNIFTY\":\n",
    "        increment = 100\n",
    "    else:\n",
    "        raise BotException(\"Invalid symbol at get_atm_strike\")\n",
    "\n",
    "    if current_price is None:\n",
    "        raise BotException(\"Current price is none in get_atm_strike\")\n",
    "\n",
    "    if current_trend == \"CE\":\n",
    "        rounded_strike = ((current_price - increment -1) // increment) * increment\n",
    "    elif current_trend == \"PE\":\n",
    "        rounded_strike = ((current_price + increment - 1) // increment) * increment\n",
    "    elif current_trend is None:\n",
    "        rounded_strike = 0\n",
    "    else:\n",
    "        raise BotException(\"Invalid current_trend value in get_atm_strike\")\n",
    "\n",
    "    return rounded_strike\n",
    "\n",
    "    \n",
    "get_atm_strike(\"NIFTY\",22260,\"PE\")"
   ]
  },
  {
   "cell_type": "code",
   "execution_count": null,
   "id": "6e16ccef-a508-42bf-a5af-76f32391ecec",
   "metadata": {},
   "outputs": [],
   "source": []
  }
 ],
 "metadata": {
  "kernelspec": {
   "display_name": "Python 3 (ipykernel)",
   "language": "python",
   "name": "python3"
  },
  "language_info": {
   "codemirror_mode": {
    "name": "ipython",
    "version": 3
   },
   "file_extension": ".py",
   "mimetype": "text/x-python",
   "name": "python",
   "nbconvert_exporter": "python",
   "pygments_lexer": "ipython3",
   "version": "3.10.12"
  }
 },
 "nbformat": 4,
 "nbformat_minor": 5
}
